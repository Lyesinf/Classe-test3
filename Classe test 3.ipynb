{
 "cells": [
  {
   "cell_type": "code",
   "execution_count": 47,
   "id": "2f563118",
   "metadata": {},
   "outputs": [
    {
     "name": "stdout",
     "output_type": "stream",
     "text": [
      "Bienvenue\n",
      "Enter amount to be deposited: 5000\n",
      "Amount Deposited:  5000.0\n",
      "Enter le montant to retrait: 3000\n",
      "Votre retrait:  3000.0\n",
      "Net Available Balance= 2000.0\n"
     ]
    }
   ],
   "source": [
    "class Conte_Banquere:\n",
    "    \n",
    "    def __init__(self ):\n",
    "        self.balance=0\n",
    "        print(\"Bienvenue\")\n",
    "    \n",
    "    def depos(self):\n",
    "        montant=float(input(\"Enter amount to be deposited: \"))\n",
    "        self.balance += montant\n",
    "        print(\"Amount Deposited: \",montant)\n",
    "    def retrait(self):\n",
    "        montant = float(input(\"Enter le montant to retrait: \"))\n",
    "        if self.balance>=montant:\n",
    "            self.balance -=montant\n",
    "            print(\"Votre retrait: \",montant)\n",
    "        else:\n",
    "            print(\"Vous ne pouvez pas retirer cette somme \")   \n",
    "    def display(self):\n",
    "        print(\"Net Available Balance=\",self.balance)      \n",
    "        \n",
    "s = Conte_Banquere()\n",
    "s.depos()\n",
    "s.retrait()\n",
    "s.display()"
   ]
  }
 ],
 "metadata": {
  "kernelspec": {
   "display_name": "Python 3 (ipykernel)",
   "language": "python",
   "name": "python3"
  },
  "language_info": {
   "codemirror_mode": {
    "name": "ipython",
    "version": 3
   },
   "file_extension": ".py",
   "mimetype": "text/x-python",
   "name": "python",
   "nbconvert_exporter": "python",
   "pygments_lexer": "ipython3",
   "version": "3.9.7"
  }
 },
 "nbformat": 4,
 "nbformat_minor": 5
}
